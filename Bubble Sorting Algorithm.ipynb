{
 "cells": [
  {
   "cell_type": "code",
   "execution_count": 1,
   "metadata": {},
   "outputs": [],
   "source": [
    "#As written in the title, this program sorts a list of numbers"
   ]
  },
  {
   "cell_type": "code",
   "execution_count": 2,
   "metadata": {},
   "outputs": [],
   "source": [
    "def bubble_sorting(n):\n",
    "    \n",
    "    if len(n) > 1:\n",
    "        \n",
    "        i = 0\n",
    "        j = 1\n",
    "        k = len(n)-2\n",
    "        f = len(n)-1\n",
    "        \n",
    "        while j < len(n)-1:\n",
    "        \n",
    "            if n[i] > n[j]:\n",
    "                n.append(n[i])\n",
    "                n.pop(i)\n",
    "                i = 0\n",
    "                j = 1\n",
    "            else:\n",
    "                i += 1\n",
    "                j += 1\n",
    "                \n",
    "        if n[k] > n[f]:\n",
    "            n.append(n[k])\n",
    "            n.pop(k)\n",
    "    else:\n",
    "        print(\"The list needs to have more than one item to be sorted :)\")"
   ]
  },
  {
   "cell_type": "code",
   "execution_count": 3,
   "metadata": {},
   "outputs": [
    {
     "name": "stdout",
     "output_type": "stream",
     "text": [
      "[-20, -10, 1, 2, 4, 5, 8, 1000]\n"
     ]
    }
   ],
   "source": [
    "n = [5,1,4,2,-10,8,-20,1000]\n",
    "bubble_sorting(n)\n",
    "print(n)"
   ]
  },
  {
   "cell_type": "code",
   "execution_count": null,
   "metadata": {},
   "outputs": [],
   "source": []
  }
 ],
 "metadata": {
  "kernelspec": {
   "display_name": "Python 3",
   "language": "python",
   "name": "python3"
  },
  "language_info": {
   "codemirror_mode": {
    "name": "ipython",
    "version": 3
   },
   "file_extension": ".py",
   "mimetype": "text/x-python",
   "name": "python",
   "nbconvert_exporter": "python",
   "pygments_lexer": "ipython3",
   "version": "3.8.3"
  }
 },
 "nbformat": 4,
 "nbformat_minor": 4
}
