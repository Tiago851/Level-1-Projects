{
 "cells": [
  {
   "cell_type": "code",
   "execution_count": 71,
   "metadata": {},
   "outputs": [],
   "source": [
    "import zipfile\n",
    "import os"
   ]
  },
  {
   "cell_type": "code",
   "execution_count": null,
   "metadata": {},
   "outputs": [],
   "source": [
    "exercicio = zipfile.ZipFile('unzip_me_for_instructions.zip','r')"
   ]
  },
  {
   "cell_type": "code",
   "execution_count": null,
   "metadata": {},
   "outputs": [],
   "source": [
    "exercicio.extractall('Advanced Modules - Exercise')"
   ]
  },
  {
   "cell_type": "code",
   "execution_count": 48,
   "metadata": {},
   "outputs": [],
   "source": [
    "x = 'C:\\\\Users\\\\Utilizador\\\\Advanced Modules - Exercise'"
   ]
  },
  {
   "cell_type": "code",
   "execution_count": 72,
   "metadata": {},
   "outputs": [
    {
     "name": "stdout",
     "output_type": "stream",
     "text": [
      "Good work on unzipping the file!\n",
      "You should now see 5 folders, each with a lot of random .txt files.\n",
      "Within one of these text files is a telephone number formated ###-###-#### \n",
      "Use the Python os module and regular expressions to iterate through each file, open it, and search for a telephone number.\n",
      "Good luck!\n",
      "\n",
      "\n",
      "<re.Match object; span=(1062, 1074), match='719-266-2837'>\n",
      "The file is located in:\n",
      "C:\\Users\\Utilizador\\Advanced Modules - Exercise\\extracted_content\\Four\n",
      "The file name is:\n",
      "EMTGPSXQEJX.txt\n"
     ]
    }
   ],
   "source": [
    "for folder,subfolder,files in os.walk(x):\n",
    "    \n",
    "    for file in files:\n",
    "        if file == 'Instructions.txt':\n",
    "            y = folder+'\\\\'+file\n",
    "            f = open(y,'r')\n",
    "            print(f.read())\n",
    "            \n",
    "        y = folder+'\\\\'+file\n",
    "        \n",
    "        f = open(y,'r')\n",
    "        \n",
    "        for z in f:\n",
    "            \n",
    "            t1 = re.search(r'\\d{3}-\\d{3}-\\d{4}',z)\n",
    "            \n",
    "            if t1 != None:\n",
    "                print('\\n')\n",
    "                print(t1)\n",
    "                print('The file is located in:')\n",
    "                print(folder)\n",
    "                print('The file name is:')\n",
    "                print(file)"
   ]
  },
  {
   "cell_type": "code",
   "execution_count": null,
   "metadata": {},
   "outputs": [],
   "source": []
  }
 ],
 "metadata": {
  "kernelspec": {
   "display_name": "Python 3",
   "language": "python",
   "name": "python3"
  },
  "language_info": {
   "codemirror_mode": {
    "name": "ipython",
    "version": 3
   },
   "file_extension": ".py",
   "mimetype": "text/x-python",
   "name": "python",
   "nbconvert_exporter": "python",
   "pygments_lexer": "ipython3",
   "version": "3.8.3"
  }
 },
 "nbformat": 4,
 "nbformat_minor": 4
}
