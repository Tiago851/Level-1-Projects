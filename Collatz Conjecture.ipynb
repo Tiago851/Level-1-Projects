{
 "cells": [
  {
   "cell_type": "code",
   "execution_count": null,
   "metadata": {},
   "outputs": [],
   "source": [
    "#Algorithm for the Collatz Conjecture"
   ]
  },
  {
   "cell_type": "code",
   "execution_count": null,
   "metadata": {},
   "outputs": [],
   "source": [
    "import matplotlib.pyplot as plt"
   ]
  },
  {
   "cell_type": "code",
   "execution_count": null,
   "metadata": {},
   "outputs": [],
   "source": [
    "def collatz():\n",
    "    n = int(input('Please enter a positive integer: '))\n",
    "    \n",
    "    while type(n) != int or n<=1:\n",
    "        n = int(input('Please enter a positive integer: '))\n",
    "    \n",
    "    i = n\n",
    "    x = []\n",
    "    while i > 1:\n",
    "        if n%2==0:\n",
    "            n = n/2\n",
    "        else:\n",
    "            n = 3*n+1\n",
    "        i = n\n",
    "        print(int(i))\n",
    "        x.append(i)\n",
    "    plt.plot(x)\n",
    "    plt.show()"
   ]
  },
  {
   "cell_type": "code",
   "execution_count": null,
   "metadata": {},
   "outputs": [],
   "source": [
    "collatz()"
   ]
  },
  {
   "cell_type": "code",
   "execution_count": null,
   "metadata": {},
   "outputs": [],
   "source": []
  }
 ],
 "metadata": {
  "kernelspec": {
   "display_name": "Python 3",
   "language": "python",
   "name": "python3"
  },
  "language_info": {
   "codemirror_mode": {
    "name": "ipython",
    "version": 3
   },
   "file_extension": ".py",
   "mimetype": "text/x-python",
   "name": "python",
   "nbconvert_exporter": "python",
   "pygments_lexer": "ipython3",
   "version": "3.8.3"
  }
 },
 "nbformat": 4,
 "nbformat_minor": 4
}
