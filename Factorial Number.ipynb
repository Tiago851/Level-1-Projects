{
 "cells": [
  {
   "cell_type": "code",
   "execution_count": 1,
   "metadata": {},
   "outputs": [],
   "source": [
    "#Standard script that returns the factorial of an integer \n",
    "#The code is a bit longer because I wanted to be sure that n is always a positive integer"
   ]
  },
  {
   "cell_type": "code",
   "execution_count": 2,
   "metadata": {},
   "outputs": [],
   "source": [
    "def factorial():\n",
    "    try:\n",
    "        n = int(input(\"Enter number: \"))\n",
    "    except:\n",
    "        print(\"Plese enter an integer!\")\n",
    "        n = int(input(\"Enter number: \"))\n",
    "        \n",
    "    finally:\n",
    "        \n",
    "        if n == 0 or n == 1:\n",
    "            return 1\n",
    "        \n",
    "        elif n < 0:\n",
    "            print(\"Plese enter a positive integer!\")\n",
    "            n = int(input(\"Enter number: \"))\n",
    "        \n",
    "        else:\n",
    "            f = n\n",
    "            y = n\n",
    "            while n > 1:\n",
    "                n -= 1\n",
    "                f = f *n\n",
    "            print(f\"The factorial of {y} is {f}\")"
   ]
  },
  {
   "cell_type": "code",
   "execution_count": 3,
   "metadata": {},
   "outputs": [
    {
     "name": "stdout",
     "output_type": "stream",
     "text": [
      "Enter number: 10\n",
      "The factorial of 10 is 3628800\n"
     ]
    }
   ],
   "source": [
    "factorial()"
   ]
  },
  {
   "cell_type": "code",
   "execution_count": null,
   "metadata": {},
   "outputs": [],
   "source": []
  }
 ],
 "metadata": {
  "kernelspec": {
   "display_name": "Python 3",
   "language": "python",
   "name": "python3"
  },
  "language_info": {
   "codemirror_mode": {
    "name": "ipython",
    "version": 3
   },
   "file_extension": ".py",
   "mimetype": "text/x-python",
   "name": "python",
   "nbconvert_exporter": "python",
   "pygments_lexer": "ipython3",
   "version": "3.8.3"
  }
 },
 "nbformat": 4,
 "nbformat_minor": 4
}
