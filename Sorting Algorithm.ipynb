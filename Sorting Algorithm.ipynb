{
 "cells": [
  {
   "cell_type": "code",
   "execution_count": 1,
   "metadata": {},
   "outputs": [],
   "source": [
    "#Merge Sort Algorithm"
   ]
  },
  {
   "cell_type": "code",
   "execution_count": 2,
   "metadata": {},
   "outputs": [],
   "source": [
    "def merge_sort(a):\n",
    "        \n",
    "    if len(a) > 1:\n",
    "        \n",
    "        q = len(a)//2 #Middle point of the list\n",
    "\n",
    "        left = a[:q]\n",
    "        right = a[q:]\n",
    "        \n",
    "        merge_sort(left)\n",
    "        merge_sort(right)\n",
    "\n",
    "        i = 0 #Left List\n",
    "        j = 0 #Right List\n",
    "        k = 0 #Main List\n",
    "\n",
    "\n",
    "        while i < len(left) and j < len(right):\n",
    "\n",
    "            if left[i] < right[j]:\n",
    "                a[k] = left[i]\n",
    "                i += 1\n",
    "            else:\n",
    "                a[k] = right[j]\n",
    "                j += 1\n",
    "            k += 1\n",
    "\n",
    "        while i < len(left):\n",
    "            a[k] = left[i]\n",
    "            i += 1\n",
    "            k += 1\n",
    "\n",
    "        while j < len(right):\n",
    "            a[k] = right[j]\n",
    "            j += 1\n",
    "            k += 1"
   ]
  },
  {
   "cell_type": "code",
   "execution_count": 3,
   "metadata": {},
   "outputs": [
    {
     "name": "stdout",
     "output_type": "stream",
     "text": [
      "[-750, -400, -21, -12, 20, 40, 500, 800, 1000]\n"
     ]
    }
   ],
   "source": [
    "a = [-21,40,-12,20,-400,500,1000,-750,800]\n",
    "merge_sort(a) \n",
    "print(a)"
   ]
  },
  {
   "cell_type": "code",
   "execution_count": null,
   "metadata": {},
   "outputs": [],
   "source": []
  }
 ],
 "metadata": {
  "kernelspec": {
   "display_name": "Python 3",
   "language": "python",
   "name": "python3"
  },
  "language_info": {
   "codemirror_mode": {
    "name": "ipython",
    "version": 3
   },
   "file_extension": ".py",
   "mimetype": "text/x-python",
   "name": "python",
   "nbconvert_exporter": "python",
   "pygments_lexer": "ipython3",
   "version": "3.8.3"
  }
 },
 "nbformat": 4,
 "nbformat_minor": 4
}
