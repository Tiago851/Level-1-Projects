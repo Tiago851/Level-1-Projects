{
 "cells": [
  {
   "cell_type": "code",
   "execution_count": null,
   "metadata": {},
   "outputs": [],
   "source": [
    "#Program to Send a mathematical-function-generated flower by email"
   ]
  },
  {
   "cell_type": "code",
   "execution_count": null,
   "metadata": {},
   "outputs": [],
   "source": [
    "#Mathematical Modules\n",
    "import numpy as np\n",
    "import matplotlib.pyplot as plt"
   ]
  },
  {
   "cell_type": "code",
   "execution_count": null,
   "metadata": {},
   "outputs": [],
   "source": [
    "#Modules for Email and Email Body\n",
    "from email.mime.multipart import MIMEMultipart\n",
    "from email.mime.text import MIMEText\n",
    "from email.mime.image import MIMEImage\n",
    "import smtplib\n",
    "import getpass"
   ]
  },
  {
   "cell_type": "code",
   "execution_count": null,
   "metadata": {},
   "outputs": [],
   "source": [
    "smtp_object = smtplib.SMTP(\"smtp.gmail.com\",587); #Connecting to the Gmail Portal"
   ]
  },
  {
   "cell_type": "code",
   "execution_count": null,
   "metadata": {},
   "outputs": [],
   "source": [
    "smtp_object.ehlo(); #Test if connection went fine"
   ]
  },
  {
   "cell_type": "code",
   "execution_count": null,
   "metadata": {},
   "outputs": [],
   "source": [
    "smtp_object.starttls(); #Encryption"
   ]
  },
  {
   "cell_type": "code",
   "execution_count": null,
   "metadata": {},
   "outputs": [],
   "source": [
    "#Function to generate the flower in red color, imitating a rose\n",
    "#Here we arbitrate Theta from 0 until 40p*i with steps of 0.005\n",
    "\n",
    "def flor(n,d):\n",
    "    \n",
    "    teta = np.arange(0,40*np.pi,0.005)\n",
    "        \n",
    "    r = np.cos(teta*(n/d))\n",
    "    x = r*np.cos(teta)\n",
    "    y = r*np.sin(teta)\n",
    "        \n",
    "    plt.plot(x,y,color=\"green\")\n",
    "    plt.axis('off')\n",
    "    plt.savefig('flower1.jpg')\n",
    "    plt.close()\n",
    "    plt.show()"
   ]
  },
  {
   "cell_type": "code",
   "execution_count": null,
   "metadata": {},
   "outputs": [],
   "source": [
    "#Run the function with n=3 and d=2\n",
    "flor(3,2)\n",
    "\n",
    "#Opening the image generated before\n",
    "imagem = open('flower1.jpg','rb')"
   ]
  },
  {
   "cell_type": "code",
   "execution_count": null,
   "metadata": {},
   "outputs": [],
   "source": [
    "#Defining email destination and origin\n",
    "strFrom = getpass.getpass(\"Sender email address: \")\n",
    "strTo =  getpass.getpass(\"Receiver email address: \")"
   ]
  },
  {
   "cell_type": "code",
   "execution_count": null,
   "metadata": {},
   "outputs": [],
   "source": [
    "#Defining Parameters\n",
    "msgRoot = MIMEMultipart('related')\n",
    "msgRoot['Subject'] = 'Hi :D'\n",
    "msgRoot['From'] = strFrom\n",
    "msgRoot['To'] = strTo\n",
    "msgText = MIMEText(\"The flower I made for you: \")"
   ]
  },
  {
   "cell_type": "code",
   "execution_count": null,
   "metadata": {},
   "outputs": [],
   "source": [
    "#Adding the text to the email\n",
    "msgAlternative = MIMEMultipart('alternative')\n",
    "msgRoot.attach(msgAlternative)\n",
    "msgAlternative.attach(msgText)"
   ]
  },
  {
   "cell_type": "code",
   "execution_count": null,
   "metadata": {},
   "outputs": [],
   "source": [
    "#Attach the image and then closing it\n",
    "msgImage = MIMEImage(imagem.read())\n",
    "imagem.close()"
   ]
  },
  {
   "cell_type": "code",
   "execution_count": null,
   "metadata": {},
   "outputs": [],
   "source": [
    "#Attaching the image to the email\n",
    "msgRoot.attach(msgImage)"
   ]
  },
  {
   "cell_type": "code",
   "execution_count": null,
   "metadata": {},
   "outputs": [],
   "source": [
    "#The sender needs to have previously configured this function, so Google will not block the attempt\n",
    "password = getpass.getpass(\"Before sending the email, please enter the sender password: \")\n",
    "\n",
    "smtp_object.login(strFrom,password);"
   ]
  },
  {
   "cell_type": "code",
   "execution_count": null,
   "metadata": {},
   "outputs": [],
   "source": [
    "#Sending the email\n",
    "smtp_object.sendmail(strFrom,strTo,msgRoot.as_string());"
   ]
  },
  {
   "cell_type": "code",
   "execution_count": null,
   "metadata": {},
   "outputs": [],
   "source": [
    "#Wrapping everything up :) \n",
    "smtp_object.quit();"
   ]
  }
 ],
 "metadata": {
  "kernelspec": {
   "display_name": "Python 3",
   "language": "python",
   "name": "python3"
  },
  "language_info": {
   "codemirror_mode": {
    "name": "ipython",
    "version": 3
   },
   "file_extension": ".py",
   "mimetype": "text/x-python",
   "name": "python",
   "nbconvert_exporter": "python",
   "pygments_lexer": "ipython3",
   "version": "3.8.3"
  }
 },
 "nbformat": 4,
 "nbformat_minor": 4
}
